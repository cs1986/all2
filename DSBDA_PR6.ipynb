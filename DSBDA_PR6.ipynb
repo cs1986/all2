{
 "cells": [
  {
   "cell_type": "code",
   "execution_count": 1,
   "id": "278faf16-a240-4edc-95fa-9b55d8901fd6",
   "metadata": {
    "tags": []
   },
   "outputs": [],
   "source": [
    "import numpy as np \n",
    "import matplotlib.pyplot as plt \n",
    "import pandas as pd"
   ]
  },
  {
   "cell_type": "code",
   "execution_count": 2,
   "id": "632a2f32-eb55-426c-990a-70ccfdce1d41",
   "metadata": {
    "tags": []
   },
   "outputs": [
    {
     "name": "stdout",
     "output_type": "stream",
     "text": [
      "   sepal_length  sepal_width  petal_length  petal_width species\n",
      "0           5.1          3.5           1.4          0.2  setosa\n",
      "1           4.9          3.0           1.4          0.2  setosa\n",
      "2           4.7          3.2           1.3          0.2  setosa\n",
      "3           4.6          3.1           1.5          0.2  setosa\n",
      "4           5.0          3.6           1.4          0.2  setosa\n"
     ]
    }
   ],
   "source": [
    "dataset = pd.read_csv('https://raw.githubusercontent.com/mk-gurucharan/Classification/master/IrisDataset.csv')\n",
    "\n",
    "X=dataset.iloc[:,:4].values\n",
    "y = dataset['species'].values\n",
    "print(dataset.head(5))"
   ]
  },
  {
   "cell_type": "code",
   "execution_count": 3,
   "id": "3fb6542d-84b8-4653-9b60-f84f87a995bd",
   "metadata": {
    "tags": []
   },
   "outputs": [],
   "source": [
    "from sklearn.model_selection import train_test_split \n",
    "X_train, X_test, y_train, y_test =train_test_split(X, y, test_size = 0.2)"
   ]
  },
  {
   "cell_type": "code",
   "execution_count": 4,
   "id": "780081f3-72e5-49f0-863d-69e2d54d8a16",
   "metadata": {
    "tags": []
   },
   "outputs": [],
   "source": [
    "from sklearn.preprocessing import StandardScaler \n",
    "sc = StandardScaler()\n",
    "X_train = sc.fit_transform(X_train)\n",
    "X_test = sc.transform(X_test)"
   ]
  },
  {
   "cell_type": "code",
   "execution_count": 5,
   "id": "6cf722b2-8c42-427b-90cd-a9c724d73e8c",
   "metadata": {
    "tags": []
   },
   "outputs": [
    {
     "data": {
      "text/plain": [
       "GaussianNB()"
      ]
     },
     "execution_count": 5,
     "metadata": {},
     "output_type": "execute_result"
    }
   ],
   "source": [
    "from sklearn.naive_bayes import GaussianNB\n",
    "classifier = GaussianNB()\n",
    "classifier.fit(X_train, y_train)"
   ]
  },
  {
   "cell_type": "code",
   "execution_count": 6,
   "id": "1502b795-5be7-4a2b-af34-e6291b361803",
   "metadata": {
    "tags": []
   },
   "outputs": [],
   "source": [
    "y_pred = classifier.predict(X_test)"
   ]
  },
  {
   "cell_type": "code",
   "execution_count": 7,
   "id": "9b96cb44-a06d-4556-9027-290daa2a51f8",
   "metadata": {
    "tags": []
   },
   "outputs": [
    {
     "name": "stdout",
     "output_type": "stream",
     "text": [
      "Accuracy :  0.9333333333333333\n",
      "[[14  0  0]\n",
      " [ 0  6  1]\n",
      " [ 0  1  8]]\n"
     ]
    }
   ],
   "source": [
    "from sklearn.metrics import confusion_matrix \n",
    "cm =confusion_matrix(y_test, y_pred) \n",
    "from sklearn.metrics import accuracy_score\n",
    "print(\"Accuracy : \", accuracy_score(y_test,y_pred))\n",
    "print(cm)"
   ]
  },
  {
   "cell_type": "code",
   "execution_count": 8,
   "id": "a20992bd-68ea-4272-87a1-3894dc376865",
   "metadata": {
    "tags": []
   },
   "outputs": [
    {
     "name": "stdout",
     "output_type": "stream",
     "text": [
      "   Real Values Predicted Values\n",
      "0       setosa           setosa\n",
      "1   versicolor       versicolor\n",
      "2       setosa           setosa\n",
      "3    virginica        virginica\n",
      "4   versicolor        virginica\n",
      "5    virginica        virginica\n",
      "6   versicolor       versicolor\n",
      "7       setosa           setosa\n",
      "8       setosa           setosa\n",
      "9    virginica        virginica\n",
      "10  versicolor       versicolor\n",
      "11  versicolor       versicolor\n",
      "12   virginica        virginica\n",
      "13   virginica        virginica\n",
      "14      setosa           setosa\n",
      "15   virginica        virginica\n",
      "16      setosa           setosa\n",
      "17   virginica        virginica\n",
      "18      setosa           setosa\n",
      "19   virginica        virginica\n",
      "20      setosa           setosa\n",
      "21      setosa           setosa\n",
      "22      setosa           setosa\n",
      "23   virginica       versicolor\n",
      "24      setosa           setosa\n",
      "25      setosa           setosa\n",
      "26  versicolor       versicolor\n",
      "27  versicolor       versicolor\n",
      "28      setosa           setosa\n",
      "29      setosa           setosa\n"
     ]
    }
   ],
   "source": [
    "df = pd.DataFrame({'Real Values':y_test, 'Predicted Values':y_pred})\n",
    "print(df)"
   ]
  },
  {
   "cell_type": "code",
   "execution_count": 9,
   "id": "139e6292-c29e-416c-98b1-ba6d7e0a72d7",
   "metadata": {
    "tags": []
   },
   "outputs": [],
   "source": [
    "from sklearn.metrics import precision_score, recall_score, accuracy_score"
   ]
  },
  {
   "cell_type": "code",
   "execution_count": 10,
   "id": "7b8cc7d4-bcad-4508-992c-59aed7194af0",
   "metadata": {
    "tags": []
   },
   "outputs": [
    {
     "name": "stdout",
     "output_type": "stream",
     "text": [
      "error rate:- 0.06666666666666665\n"
     ]
    }
   ],
   "source": [
    "m=accuracy_score(y_test, y_pred)\n",
    "print(\"error rate:-\",1-m)"
   ]
  },
  {
   "cell_type": "code",
   "execution_count": 11,
   "id": "996ebe7c-e221-42f9-9b1d-ee6f48ea8e79",
   "metadata": {
    "tags": []
   },
   "outputs": [
    {
     "name": "stdout",
     "output_type": "stream",
     "text": [
      "Precision: 0.9333333333333333\n"
     ]
    }
   ],
   "source": [
    "print('Precision:',precision_score(y_test,y_pred,average='micro'))"
   ]
  },
  {
   "cell_type": "code",
   "execution_count": 12,
   "id": "73d2b2b0-5e4c-4e5a-a55c-7d82cac26b53",
   "metadata": {
    "tags": []
   },
   "outputs": [
    {
     "name": "stdout",
     "output_type": "stream",
     "text": [
      "Recall Score: 0.9333333333333333\n"
     ]
    }
   ],
   "source": [
    "print(\"Recall Score:\",recall_score(y_test,y_pred,average='micro'))"
   ]
  }
 ],
 "metadata": {
  "kernelspec": {
   "display_name": "Python 3 (ipykernel)",
   "language": "python",
   "name": "python3"
  },
  "language_info": {
   "codemirror_mode": {
    "name": "ipython",
    "version": 3
   },
   "file_extension": ".py",
   "mimetype": "text/x-python",
   "name": "python",
   "nbconvert_exporter": "python",
   "pygments_lexer": "ipython3",
   "version": "3.9.12"
  }
 },
 "nbformat": 4,
 "nbformat_minor": 5
}
